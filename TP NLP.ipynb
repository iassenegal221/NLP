{
 "cells": [
  {
   "cell_type": "markdown",
   "id": "1c3158cc",
   "metadata": {},
   "source": [
    "## Institut des Algorithmes du Sénégal\n",
    "\n",
    "\n",
    "\n",
    "1. Import nltk and download the ‘stopwords’ and ‘punkt’ packages\n",
    "\n",
    "\n",
    "\n",
    "\n",
    "2. Import spacy and load the language model\n",
    "\n",
    "\n",
    "3. How to tokenize a given text? You can give differents methods\n",
    "\n",
    "4. How to tokenize text with stopwords as delimiters?\n",
    "\n",
    "\n",
    "5. How to get the sentences of a text document ?\n",
    "\n",
    "\n",
    "6. How to remove stop words in a text ?"
   ]
  },
  {
   "cell_type": "code",
   "execution_count": null,
   "id": "241d6523",
   "metadata": {},
   "outputs": [],
   "source": []
  }
 ],
 "metadata": {
  "kernelspec": {
   "display_name": "Python 3 (ipykernel)",
   "language": "python",
   "name": "python3"
  },
  "language_info": {
   "codemirror_mode": {
    "name": "ipython",
    "version": 3
   },
   "file_extension": ".py",
   "mimetype": "text/x-python",
   "name": "python",
   "nbconvert_exporter": "python",
   "pygments_lexer": "ipython3",
   "version": "3.9.12"
  }
 },
 "nbformat": 4,
 "nbformat_minor": 5
}
